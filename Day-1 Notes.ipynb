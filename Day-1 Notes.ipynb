{
 "cells": [
  {
   "cell_type": "markdown",
   "id": "c8219b60-ce12-4f68-9ae9-8684172c7d5b",
   "metadata": {},
   "source": [
    "# Printing"
   ]
  },
  {
   "cell_type": "code",
   "execution_count": 1,
   "id": "87b69fb0-b300-405b-bfc8-74c5db430676",
   "metadata": {},
   "outputs": [
    {
     "name": "stdout",
     "output_type": "stream",
     "text": [
      "Hello World\n"
     ]
    }
   ],
   "source": [
    "print(\"Hello World\")"
   ]
  },
  {
   "cell_type": "markdown",
   "id": "b7ef85ef-1cae-4395-abfd-c47527e7fa2a",
   "metadata": {},
   "source": [
    "# Exercise"
   ]
  },
  {
   "cell_type": "code",
   "execution_count": 2,
   "id": "eb210c12-59db-41ac-b125-83151feafdd5",
   "metadata": {},
   "outputs": [
    {
     "name": "stdout",
     "output_type": "stream",
     "text": [
      "Day-1 Python Print Function\n",
      "The function is declared like this:\n",
      "print('What to print')\n"
     ]
    }
   ],
   "source": [
    "print(\"Day-1 Python Print Function\")\n",
    "print(\"The function is declared like this:\")\n",
    "print(\"print('What to print')\")"
   ]
  },
  {
   "cell_type": "markdown",
   "id": "495e08c3-104c-4477-858e-b843000d972a",
   "metadata": {},
   "source": [
    "# Use of \\n in print()"
   ]
  },
  {
   "cell_type": "code",
   "execution_count": 3,
   "id": "5c599e4d-a594-4baa-a79d-3b469a3c2267",
   "metadata": {},
   "outputs": [
    {
     "name": "stdout",
     "output_type": "stream",
     "text": [
      "Hello world!\n",
      "Hello world!\n",
      "Hello world!\n"
     ]
    }
   ],
   "source": [
    "print(\"Hello world!\\nHello world!\\nHello world!\")"
   ]
  },
  {
   "cell_type": "code",
   "execution_count": 4,
   "id": "549fb392-3ee3-4208-875c-fbb19c860fc4",
   "metadata": {},
   "outputs": [
    {
     "name": "stdout",
     "output_type": "stream",
     "text": [
      "HelloPython\n",
      "Hello Python\n"
     ]
    }
   ],
   "source": [
    "print(\"Hello\" + \"Python\")\n",
    "print(\"Hello\" + \" \" + \"Python\")"
   ]
  },
  {
   "cell_type": "markdown",
   "id": "04a55daa-fa73-4182-b8e4-2698053d1a62",
   "metadata": {},
   "source": [
    "# Input"
   ]
  },
  {
   "cell_type": "code",
   "execution_count": 5,
   "id": "9eab8455-fd7d-4e3e-9261-63ab499716a7",
   "metadata": {},
   "outputs": [
    {
     "name": "stdin",
     "output_type": "stream",
     "text": [
      "What is your name? Bob\n"
     ]
    },
    {
     "data": {
      "text/plain": [
       "'Bob'"
      ]
     },
     "execution_count": 5,
     "metadata": {},
     "output_type": "execute_result"
    }
   ],
   "source": [
    "input(\"What is your name?\")"
   ]
  },
  {
   "cell_type": "markdown",
   "id": "063ae87c-3e32-44c5-bc74-e83e741b5925",
   "metadata": {},
   "source": [
    "# Exercise on input() function"
   ]
  },
  {
   "cell_type": "code",
   "execution_count": 6,
   "id": "a17bd078-086c-4688-a75d-54510354fc69",
   "metadata": {},
   "outputs": [
    {
     "name": "stdin",
     "output_type": "stream",
     "text": [
      "Write your name. Bob\n"
     ]
    },
    {
     "name": "stdout",
     "output_type": "stream",
     "text": [
      "3\n"
     ]
    }
   ],
   "source": [
    "a = input(\"Write your name.\")\n",
    "print(len(a))\n"
   ]
  },
  {
   "cell_type": "markdown",
   "id": "759af539-70c0-4387-a479-e162d280a35b",
   "metadata": {},
   "source": [
    "# Python Variables"
   ]
  },
  {
   "cell_type": "code",
   "execution_count": 7,
   "id": "457cb460-9d54-4512-a62d-1c60f32babfa",
   "metadata": {},
   "outputs": [
    {
     "name": "stdin",
     "output_type": "stream",
     "text": [
      "What is your name? Jack\n"
     ]
    },
    {
     "name": "stdout",
     "output_type": "stream",
     "text": [
      "Jack\n"
     ]
    }
   ],
   "source": [
    "name = input(\"What is your name?\")\n",
    "print(name)"
   ]
  },
  {
   "cell_type": "code",
   "execution_count": 8,
   "id": "8192b686-1645-4d67-b255-473ebafca266",
   "metadata": {},
   "outputs": [
    {
     "name": "stdout",
     "output_type": "stream",
     "text": [
      "Jack\n",
      "Angela\n"
     ]
    },
    {
     "name": "stdin",
     "output_type": "stream",
     "text": [
      "What is your name? Paul\n"
     ]
    },
    {
     "name": "stdout",
     "output_type": "stream",
     "text": [
      "4\n"
     ]
    }
   ],
   "source": [
    "name = \"Jack\"\n",
    "print(name)\n",
    "\n",
    "name = \"Angela\"\n",
    "print(name)\n",
    "\n",
    "print(len(input(\"What is your name?\")))"
   ]
  },
  {
   "cell_type": "code",
   "execution_count": 9,
   "id": "96640a13-7465-4bb3-92ac-e19bed807328",
   "metadata": {},
   "outputs": [
    {
     "name": "stdin",
     "output_type": "stream",
     "text": [
      "What is your name? Jack\n"
     ]
    },
    {
     "name": "stdout",
     "output_type": "stream",
     "text": [
      "4\n"
     ]
    }
   ],
   "source": [
    "name = input(\"What is your name?\")\n",
    "length = len(name)\n",
    "print(length)"
   ]
  },
  {
   "cell_type": "markdown",
   "id": "07d38a60-018d-4022-9215-baefb56fed37",
   "metadata": {},
   "source": [
    "# Exercise on Variables"
   ]
  },
  {
   "cell_type": "code",
   "execution_count": 10,
   "id": "86189cf0-9db6-4e0a-be93-d807d9b92eb4",
   "metadata": {},
   "outputs": [
    {
     "name": "stdin",
     "output_type": "stream",
     "text": [
      "a:  5\n",
      "b:  6\n"
     ]
    },
    {
     "name": "stdout",
     "output_type": "stream",
     "text": [
      "a =  6\n",
      "b =  5\n"
     ]
    }
   ],
   "source": [
    "a = (input(\"a: \"))\n",
    "b = (input(\"b: \"))\n",
    "x = a\n",
    "a = b\n",
    "b = x\n",
    "print(\"a = \", a)\n",
    "print(\"b = \", b)\n"
   ]
  },
  {
   "cell_type": "markdown",
   "id": "297a06f6-6aef-44fa-9ef8-03d33c6ae1a4",
   "metadata": {},
   "source": [
    "# Day-1 Project: Band Name Generator"
   ]
  },
  {
   "cell_type": "code",
   "execution_count": 11,
   "id": "6480767b-a38a-4d5c-bb0f-a84f01de596d",
   "metadata": {},
   "outputs": [
    {
     "name": "stdout",
     "output_type": "stream",
     "text": [
      "Welcome To The Band Name Generator.\n"
     ]
    },
    {
     "name": "stdin",
     "output_type": "stream",
     "text": [
      "What is the name of the city you grew up in?\n",
      " California\n",
      "What is the name of your pet?\n",
      " skinny\n"
     ]
    },
    {
     "name": "stdout",
     "output_type": "stream",
     "text": [
      "This is your Band Name.\n",
      "Californiaskinny\n"
     ]
    }
   ],
   "source": [
    "print(\"Welcome To The Band Name Generator.\")\n",
    "city = input(\"What is the name of the city you grew up in?\\n\")\n",
    "pet = input(\"What is the name of your pet?\\n\")\n",
    "band_name = city + pet\n",
    "print(\"This is your Band Name.\")\n",
    "print(band_name)\n"
   ]
  },
  {
   "cell_type": "code",
   "execution_count": null,
   "id": "a06cd479-c445-4e14-8832-925a81fbce67",
   "metadata": {},
   "outputs": [],
   "source": []
  }
 ],
 "metadata": {
  "kernelspec": {
   "display_name": "envForPythonProBootcampOfAngelaYu",
   "language": "python",
   "name": "envforpythonprobootcampofangelayu"
  },
  "language_info": {
   "codemirror_mode": {
    "name": "ipython",
    "version": 3
   },
   "file_extension": ".py",
   "mimetype": "text/x-python",
   "name": "python",
   "nbconvert_exporter": "python",
   "pygments_lexer": "ipython3",
   "version": "3.10.7"
  }
 },
 "nbformat": 4,
 "nbformat_minor": 5
}
